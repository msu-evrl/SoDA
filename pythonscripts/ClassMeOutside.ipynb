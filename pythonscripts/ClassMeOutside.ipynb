{
 "cells": [
  {
   "cell_type": "markdown",
   "metadata": {},
   "source": [
    "   <img src=\"http://localhost/dashboard/images/evrl_logo.JPG\" align=\"left\"width=\"130\" height=\"130\" />   <h1 align =\"center\"> Social Data Analytics Tweet Classifier</h1>\n",
    "\n",
    "                                           ##Centered Project Summary\n",
    ".\n",
    "### *Goals*\n",
    "   - Accurately Classify Tweets from sql\n",
    "### *Tasks*          \n",
    "   - Build Html front end\n",
    "   - Optimize feaurelists \n",
    "   - Adapt to run predictions in parallel\n",
    "   - Upload Determined Category to SQL\n",
    "   - Pull New Tweets from stream \n",
    "   - Build live Visualization"
   ]
  },
  {
   "cell_type": "markdown",
   "metadata": {},
   "source": [
    "## **The PullLocalData function takes the tweets from a local sql server and prepares the data                                                  for use in the classifiers**##\n",
    "- *rlabels*:Controls wether the output labels are strings or integers\n",
    "- *tup*:Controls wether the output is a single tuple or 2 lists\n",
    " 1.\n",
    "### Changes to be made:\n",
    "    - Find a way to evalute the text on links provided"
   ]
  },
  {
   "cell_type": "code",
   "execution_count": 100,
   "metadata": {
    "collapsed": false
   },
   "outputs": [],
   "source": [
    "def PullLocalData(rlabels=0,tup=0):\n",
    "    import pymysql \n",
    "    import numpy as np\n",
    "    from collections import namedtuple\n",
    "    \n",
    "    labs=[\"Violent Crimes\",\"Arrests Made\",\"Community Activities\",\"Missing Persons\"\\\n",
    "          ,\"Victim of Crimes\",\"Humanizing\",\"DBP Campaigns\",\"Other\"]#The possiple catergories for a tweet \n",
    "\n",
    "    db=pymysql.connect(host=\"localhost\", user=\"root\", passwd=\"toor\", db=\"soda\")\n",
    "    tex=db.cursor(pymysql.cursors.DictCursor)\n",
    "    #sql query takes tweets ID content and category  \n",
    "    tex.execute(\"SELECT tweets_table.tweets_key,tweets_table.content, category_table.category_1 FROM tweets_table,category_table WHERE tweets_table.tweets_key=category_table.tweets_key;\")\n",
    "    mex=tex.fetchall()\n",
    "    #reads text data into tuple\n",
    "    tweet = []\n",
    "    raw = namedtuple('Tweet', 'words tags hashtags')\n",
    "    for w in mex[:len(mex)]:\n",
    "        words=normalize_tweet(str(w.get('content'))).split()\n",
    "        hashtags=[]\n",
    "        tags= w.get('category_1') if rlabels==0 else labs[((w.get('category_1'))-1)]\n",
    "        if len(re.findall(\"\\#\\S+\",str(w.get('content')))) > 0:\n",
    "            hashtags.append(re.findall(\"\\#\\S+\",str(w.get('content'))))\n",
    "            \n",
    "        if len(words)>=2:   tweet.append(raw(words,tags,hashtags))#removes any tweet with less than three words\n",
    "    #reads text data into two seperate lists\n",
    "    if tup==0 and rlabels==0:\n",
    "        x=[]\n",
    "        y=[]\n",
    "        for i in range(len(tweet)):\n",
    "            x.append(tweet[i].words)\n",
    "            y.append(tweet[i].tags)\n",
    "        y=np.array(y)\n",
    "        y=y.astype('int64').reshape(-1)\n",
    "    return ((x,y) if tup==0 else tweet)"
   ]
  },
  {
   "cell_type": "code",
   "execution_count": null,
   "metadata": {
    "collapsed": true
   },
   "outputs": [],
   "source": []
  },
  {
   "cell_type": "markdown",
   "metadata": {},
   "source": [
    "**Used to remove special character,links, and stopwords from data**\n",
    "### Changes to be made:\n",
    "   - Include and Weight Hashtags and Sender \n",
    "   - Remove less informative words from mako file"
   ]
  },
  {
   "cell_type": "code",
   "execution_count": 135,
   "metadata": {
    "collapsed": false
   },
   "outputs": [],
   "source": [
    "def normalize_tweet(text):\n",
    "    import re \n",
    "    import string\n",
    "    htag=re.compile('\\#\\S+')\n",
    "    at_re = re.compile(r'\\@[^\\s]*')\n",
    "    text=re.sub(htag,'',text,14)\n",
    "    remove_spl_char_regex = re.compile('[%s]' % re.escape(string.punctuation)) # regex to remove special characters\n",
    "    text = re.sub(at_re, '',text)\n",
    "    stopwords=[u'rt', u're', u'i', u'me', u'my', u'myself', u'we', u'our', u'ours', u'ourselves', u'you', u'your', u'yours', u'yourself', u'yourselves', u'he', u'him', u'his', u'himself', u'she', u'her', u'hers', u'herself', u'it', u'its', u'itself', u'they', u'them', u'their', u'theirs', u'themselves', u'what', u'which', u'who', u'whom', u'this', u'that', u'these', u'those', u'am', u'is', u'are', u'was', u'were', u'be', u'been', u'being', u'have', u'has', u'had', u'having', u'do', u'does', u'did', u'doing', u'a', u'an', u'the', u'and', u'but', u'if', u'or', u'because', u'as', u'until', u'while', u'of', u'at', u'by', u'for', u'with', u'about', u'against', u'between', u'into', u'through', u'during', u'before', u'after', u'above', u'below', u'to', u'from', u'up', u'down', u'in', u'out', u'on', u'off', u'over', u'under', u'again', u'further', u'then', u'once', u'here', u'there', u'when', u'where', u'why', u'how', u'all', u'any', u'both', u'each', u'few', u'more', u'most', u'other', u'some', u'such', u'no', u'nor', u'not', u'only', u'own', u'same', u'so', u'than', u'too', u'very', u's', u't', u'can', u'will', u'just', u'don', u'should', u'now']\n",
    "    tokens = []\n",
    "   \n",
    "    text=re.sub('http[s]?://(?:[a-zA-Z]|[0-9]|[$-_@.&+]|[*(),]|(?:%[0-9a-fA-F][0-9a-fA-F]))+', '', text) # to replace url with ''\n",
    "    text = remove_spl_char_regex.sub(\" \",text)  # Remove special characters\n",
    "    text=text.lower()\n",
    "    for word in text.split():\n",
    "        if word not in stopwords \\\n",
    "            and word not in string.punctuation \\\n",
    "            and len(word)>1 \\\n",
    "            and word != '``':\n",
    "                tokens.append(word)\n",
    "    return str(\" \".join(tokens))"
   ]
  },
  {
   "cell_type": "markdown",
   "metadata": {},
   "source": [
    "## **Used to create feautures for every tweet**\n",
    "   - Can be passed either a list of tuples or a string object\n",
    "\n"
   ]
  },
  {
   "cell_type": "code",
   "execution_count": null,
   "metadata": {
    "collapsed": true
   },
   "outputs": [],
   "source": [
    "import numpy as np\n",
    "u=np.load('mako')\n",
    "u=u.reshape(1)\n",
    "u=u[0]\n",
    "keywords=u\n",
    "def extract_features(document):\n",
    "    if type(document) is (list):\n",
    "        fet=[]\n",
    "        for i in range(len(document)):\n",
    "            document_words = set(document[i].words)\n",
    "            features = {}\n",
    "            for word in keywords:\n",
    "                features['contains(%s)' % word] = (word in document_words)\n",
    "            fet.append([features,document[i].tags])\n",
    "        return fet\n",
    "    elif (type(document) is str):\n",
    "        document_words = set(document.split())\n",
    "        features = {}\n",
    "        for word in keywords:\n",
    "            features['contains(%s)' % word] = (word in document_words)\n",
    "        return features"
   ]
  },
  {
   "cell_type": "markdown",
   "metadata": {
    "collapsed": true
   },
   "source": [
    "# Major Changes Needed\n",
    "   - Feature list is 5604 words. Shrink this to increase accuracy and speed"
   ]
  },
  {
   "cell_type": "raw",
   "metadata": {},
   "source": [
    "This cell has been changed to plain text as the nltk classifier has maxed out at 57% accuraccy"
   ]
  },
  {
   "cell_type": "raw",
   "metadata": {
    "collapsed": false
   },
   "source": [
    "tweets=PullLocalData(tup=1,rlabels=1)  \n",
    "Acc=[]\n",
    "T=[]\n",
    "t=1\n",
    "data=extract_features(tweets[:None])\n",
    "while t<10: #Uncomment to run the training process of various training data sizes\n",
    "#f 1==1:\n",
    "    size = int(len(data) * (t/10))\n",
    "    \n",
    "    train_data = data[:size]\n",
    "    test_data = data[size:]\n",
    "    test_set=[]\n",
    "    steps=0\n",
    "    found=[]\n",
    "    for i in range(len(test_data)):    test_set.append([test_data[i][1]])\n",
    "    classifier = nltk.NaiveBayesClassifier.train(train_data)\n",
    "    \n",
    "    for i in range(len(test_data)):\n",
    "        found.append(1 if [classifier.classify((test_data[i][0]))]==test_set[i] else 0)\n",
    "        steps+=1\n",
    "        if steps%10==0:\n",
    "            print(\"{0} done, {1} more to go. At t value {2}\".format(len(found),(len(data)-len(found)),t))\n",
    "    acc=((100/len(found))*sum(found))    \n",
    "    print (\"{0}% accurate at {1}% of total data used\".format(acc,t))\n",
    "    T.append(t)\n",
    "    Acc.append(acc)\n",
    "    t+=1\n"
   ]
  },
  {
   "cell_type": "raw",
   "metadata": {
    "collapsed": true
   },
   "source": [
    "ex. Tweet(words=['legislative', 'update', 'midnight', 'tonight', 'pass', 'sb235', 'cannot', 'let', 'clock', 'run', 'survivors', 'sexual', 'assault'], tags='Other')"
   ]
  },
  {
   "cell_type": "code",
   "execution_count": 147,
   "metadata": {
    "collapsed": false
   },
   "outputs": [
    {
     "name": "stdout",
     "output_type": "stream",
     "text": [
      "Making Predictions...\n"
     ]
    }
   ],
   "source": [
    "from sklearn.model_selection import train_test_split\n",
    "from sklearn.feature_extraction.text import TfidfTransformer\n",
    "from sklearn.feature_extraction.text import CountVectorizer\n",
    "\n",
    "from sklearn.metrics import accuracy_score as acc\n",
    "from sklearn.svm import LinearSVC\n",
    "from sklearn.pipeline import Pipeline\n",
    "X,Y=(PullLocalData())\n",
    "X=(list(map(lambda x:\"\".join(X[x]),range(len(X)))))\n",
    "t=3\n",
    "T2=[]\n",
    "Bcc=[] #An array holding the accuracy over every iteration\n",
    "print(\"Making Predictions...\")\n",
    "while t==3:\n",
    "    X1, C, Y2, U = train_test_split(X, Y, test_size=(t/10), random_state=42)\n",
    "    \n",
    "    text_clf = Pipeline([('vect', CountVectorizer()),('tfidf', TfidfTransformer()),('ovr',LinearSVC())])\n",
    "    text_clf = text_clf.fit(X,Y)\n",
    "    \n",
    "    P=text_clf.predict(C)\n",
    "    T2.append(t/10)\n",
    "    t-=1\n",
    "    Bcc.append(acc(U,P))\n",
    "    "
   ]
  },
  {
   "cell_type": "code",
   "execution_count": null,
   "metadata": {
    "collapsed": false
   },
   "outputs": [],
   "source": []
  },
  {
   "cell_type": "code",
   "execution_count": 149,
   "metadata": {
    "collapsed": false
   },
   "outputs": [
    {
     "data": {
      "image/png": "[encoded data removed]",
      "text/plain": [
       "<matplotlib.figure.Figure at 0x27334565d30>"
      ]
     },
     "metadata": {},
     "output_type": "display_data"
    }
   ],
   "source": [
    "#Previously used to plot accuracy on various data sizes\n",
    "%matplotlib inline\n",
    "import matplotlib.pyplot as plt\n",
    "#plt.figure(1)\n",
    "#plt.subplot(211)\n",
    "#plt.plot(T,Acc)\n",
    "#plt.xlabel(r\"% of data used for training\")\n",
    "#plt.ylabel(\"Accuracy\")\n",
    "#plt.title(\"NLTK.GaussianNaiveBayes\")\n",
    "\n",
    "#plt.subplot(212)\n",
    "plt.plot(T2,Bcc)\n",
    "plt.xlabel(r\"% of data used for training\")\n",
    "plt.ylabel(\"Accuracy\")\n",
    "plt.title(\"LinearSVC\")\n",
    "plt.show()\n",
    "\n",
    "#plt.subplot(312)\n",
    "#plt.plot(T3,Ccc)\n",
    "#plt.xlabel(r\"% of data used for training\")\n",
    "#plt.ylabel(\"Accuracy\")\n",
    "#plt.title(\"OneVsRest\")\n",
    "plt.show()\n"
   ]
  }
 ],
 "metadata": {
  "kernelspec": {
   "display_name": "Python 3",
   "language": "python",
   "name": "python3"
  },
  "language_info": {
   "codemirror_mode": {
    "name": "ipython",
    "version": 3
   },
   "file_extension": ".py",
   "mimetype": "text/x-python",
   "name": "python",
   "nbconvert_exporter": "python",
   "pygments_lexer": "ipython3",
   "version": "3.6.0"
  }
 },
 "nbformat": 4,
 "nbformat_minor": 2
}
